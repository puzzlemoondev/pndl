{
 "cells": [
  {
   "cell_type": "code",
   "execution_count": 1,
   "id": "3bd1f72f-b09a-4140-8928-b1d2db74c1bf",
   "metadata": {},
   "outputs": [],
   "source": [
    "import subprocess\n",
    "\n",
    "from itertools import groupby\n",
    "from bs4 import BeautifulSoup"
   ]
  },
  {
   "cell_type": "code",
   "execution_count": 2,
   "id": "c9eaa2f7-a4e8-4cdd-adf9-6a22e886b0e3",
   "metadata": {},
   "outputs": [],
   "source": [
    "def request(url, **kwargs):\n",
    "    command = f'wget -qO- {url}'\n",
    "    \n",
    "    if user := kwargs.get('user'):\n",
    "        command += f' --user {user}'\n",
    "    \n",
    "    if password := kwargs.get('password'):\n",
    "        command += f' --password {password}'\n",
    "\n",
    "    output = subprocess.run(command, shell=True, capture_output=True)\n",
    "    \n",
    "    return output.stdout"
   ]
  },
  {
   "cell_type": "code",
   "execution_count": 3,
   "id": "44da41d0-61ca-4a59-a37e-68429c42a81c",
   "metadata": {},
   "outputs": [],
   "source": [
    "def partition_directories(hrefs):\n",
    "    directories = []\n",
    "    files = []\n",
    "\n",
    "    for is_directory, group in groupby(hrefs, lambda link: link.endswith('/')):\n",
    "        for item in group:\n",
    "            if is_directory:\n",
    "                if item != '../':\n",
    "                    directories.append(item)\n",
    "            else:\n",
    "                files.append(item)\n",
    "                \n",
    "    return (directories, files)"
   ]
  },
  {
   "cell_type": "code",
   "execution_count": 4,
   "id": "aff99678-9c4b-474b-b10b-a132d7b024c7",
   "metadata": {},
   "outputs": [],
   "source": [
    "def get_links(url, **kwargs):\n",
    "    root = request(url, **kwargs)\n",
    "    soup = BeautifulSoup(root)\n",
    "    hrefs = [a.get('href') for a in soup.find_all('a', href=True)]\n",
    "    directories, files = partition_directories(hrefs)\n",
    "    \n",
    "    links = [url + file for file in files]\n",
    "    \n",
    "    for directory in directories:\n",
    "        root_url = url + directory\n",
    "        links += get_links(root_url, **kwargs)\n",
    "        \n",
    "    return links"
   ]
  },
  {
   "cell_type": "code",
   "execution_count": 5,
   "id": "7dc250e9-996f-4107-b2f8-59b74e6ec8cd",
   "metadata": {},
   "outputs": [],
   "source": [
    "def create_aria2_input_file(links, output, **kwargs):\n",
    "    with open(output, 'w') as f:\n",
    "        for link in links:\n",
    "            download_link = link + '?download'\n",
    "            lines = [download_link]\n",
    "            \n",
    "            if header := kwargs.get('header'):\n",
    "                lines.append(f' header={header}')\n",
    "\n",
    "            file_path = link.replace(root_url, '')\n",
    "            \n",
    "            output_dir = kwargs.get('dir', '')\n",
    "            \n",
    "\n",
    "            if '/' in file_path:\n",
    "                file = file_path.split('/')[-1]\n",
    "                output_dir += file_path.replace(file, '')\n",
    "            \n",
    "            if output_dir:\n",
    "                lines.append(f' dir={output_dir}')\n",
    "\n",
    "            f.writelines(line + '\\n' for line in lines)"
   ]
  },
  {
   "cell_type": "code",
   "execution_count": 6,
   "id": "9183564c-10ca-4b0b-ab36-9b6f0dad1397",
   "metadata": {},
   "outputs": [],
   "source": [
    "user = 'hphuang'\n",
    "password = 'azf0vxe.zpj.CYG1pqc'"
   ]
  },
  {
   "cell_type": "code",
   "execution_count": 7,
   "id": "277f815c-56e2-4c8a-9c7f-b1756148d331",
   "metadata": {},
   "outputs": [],
   "source": [
    "root_url = 'https://physionet.org/files/nch-sleep/3.1.0/'"
   ]
  },
  {
   "cell_type": "code",
   "execution_count": 8,
   "id": "0f1f5da4-8908-44c5-8071-1bb47db871af",
   "metadata": {},
   "outputs": [],
   "source": [
    "links = get_links(root_url, user=user, password=password)"
   ]
  },
  {
   "cell_type": "code",
   "execution_count": 9,
   "id": "c846e8cc-09cb-4657-9a96-9e5e1be9b95e",
   "metadata": {},
   "outputs": [],
   "source": [
    "create_aria2_input_file(links, 'output.txt', dir='/var/share/aria2c/', header='Cookie: csrftoken=dAOa5FC7UydRAelbxP2vmK77DlX5ywsZET8Ci6QXrBpIQdJy3bT4SROyqSDMPTQZ; sessionid=4tklree31b5ll76ejd9t8ve0z9g260q5')"
   ]
  },
  {
   "cell_type": "code",
   "execution_count": null,
   "id": "f35fe8e9-09b1-4f9e-840a-e80ab0224676",
   "metadata": {},
   "outputs": [],
   "source": []
  }
 ],
 "metadata": {
  "kernelspec": {
   "display_name": "Python 3 (ipykernel)",
   "language": "python",
   "name": "python3"
  },
  "language_info": {
   "codemirror_mode": {
    "name": "ipython",
    "version": 3
   },
   "file_extension": ".py",
   "mimetype": "text/x-python",
   "name": "python",
   "nbconvert_exporter": "python",
   "pygments_lexer": "ipython3",
   "version": "3.10.1"
  }
 },
 "nbformat": 4,
 "nbformat_minor": 5
}
